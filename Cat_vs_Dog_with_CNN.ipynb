{
  "nbformat": 4,
  "nbformat_minor": 0,
  "metadata": {
    "colab": {
      "name": "Cat vs Dog with CNN",
      "provenance": []
    },
    "kernelspec": {
      "name": "python3",
      "display_name": "Python 3"
    }
  },
  "cells": [
    {
      "cell_type": "markdown",
      "metadata": {
        "id": "6Q01N8oAc537"
      },
      "source": [
        "# that is our new CNN \r\n"
      ]
    },
    {
      "cell_type": "code",
      "metadata": {
        "id": "JdJeXaD2c2Sx"
      },
      "source": [
        "import numpy as np\r\n",
        "import pandas as pd \r\n",
        "import matplotlib.pyplot as plt\r\n",
        "import tensorflow as tf\r\n",
        "from keras.preprocessing.image import ImageDataGenerator\r\n"
      ],
      "execution_count": 34,
      "outputs": []
    },
    {
      "cell_type": "code",
      "metadata": {
        "id": "Tqs0cHR5r3Fa",
        "colab": {
          "base_uri": "https://localhost:8080/"
        },
        "outputId": "60db9fc3-0d06-4de5-e964-c6b48b79e810"
      },
      "source": [
        "!wget --no-check-certificate \\\r\n",
        "    https://storage.googleapis.com/mledu-datasets/cats_and_dogs_filtered.zip \\\r\n",
        "    -O /tmp/cats_and_dogs_filtered.zip"
      ],
      "execution_count": 35,
      "outputs": [
        {
          "output_type": "stream",
          "text": [
            "--2021-02-25 21:06:50--  https://storage.googleapis.com/mledu-datasets/cats_and_dogs_filtered.zip\n",
            "Resolving storage.googleapis.com (storage.googleapis.com)... 64.233.189.128, 108.177.97.128, 108.177.125.128, ...\n",
            "Connecting to storage.googleapis.com (storage.googleapis.com)|64.233.189.128|:443... connected.\n",
            "HTTP request sent, awaiting response... 200 OK\n",
            "Length: 68606236 (65M) [application/zip]\n",
            "Saving to: ‘/tmp/cats_and_dogs_filtered.zip’\n",
            "\n",
            "/tmp/cats_and_dogs_ 100%[===================>]  65.43M  28.5MB/s    in 2.3s    \n",
            "\n",
            "2021-02-25 21:06:54 (28.5 MB/s) - ‘/tmp/cats_and_dogs_filtered.zip’ saved [68606236/68606236]\n",
            "\n"
          ],
          "name": "stdout"
        }
      ]
    },
    {
      "cell_type": "code",
      "metadata": {
        "id": "b70qf88QtIs_"
      },
      "source": [
        "import os\r\n",
        "import zipfile\r\n",
        "\r\n",
        "local_zip = '/tmp/cats_and_dogs_filtered.zip'\r\n",
        "zip_ref = zipfile.ZipFile(local_zip, 'r')\r\n",
        "zip_ref.extractall('/content/')\r\n",
        "zip_ref.close()"
      ],
      "execution_count": 36,
      "outputs": []
    },
    {
      "cell_type": "markdown",
      "metadata": {
        "id": "9Q57WaJ_uwjt"
      },
      "source": [
        "# preproseccing"
      ]
    },
    {
      "cell_type": "code",
      "metadata": {
        "id": "adE-NEcztLij",
        "colab": {
          "base_uri": "https://localhost:8080/"
        },
        "outputId": "d8156168-1be1-45dc-840c-d57eecf06d41"
      },
      "source": [
        "train_datagen = ImageDataGenerator(\r\n",
        "        rescale=1./255,\r\n",
        "        shear_range=0.2,\r\n",
        "        zoom_range=0.2,\r\n",
        "        horizontal_flip=True)\r\n",
        "train_generator = train_datagen.flow_from_directory(\r\n",
        "        '/content/cats_and_dogs_filtered/train',\r\n",
        "        target_size=(64, 64),\r\n",
        "        batch_size=32,\r\n",
        "        class_mode='binary')"
      ],
      "execution_count": 37,
      "outputs": [
        {
          "output_type": "stream",
          "text": [
            "Found 2000 images belonging to 2 classes.\n"
          ],
          "name": "stdout"
        }
      ]
    },
    {
      "cell_type": "code",
      "metadata": {
        "id": "lrq-lKYitP7p",
        "colab": {
          "base_uri": "https://localhost:8080/"
        },
        "outputId": "1ec61822-40b6-4b55-88cf-9ec5ae06cb3a"
      },
      "source": [
        "test_datagen = ImageDataGenerator(rescale=1./255)\r\n",
        "test_generator = test_datagen.flow_from_directory(\r\n",
        "        '/content/cats_and_dogs_filtered/validation',\r\n",
        "        target_size=(64, 64),\r\n",
        "        batch_size=32,\r\n",
        "        class_mode='binary')"
      ],
      "execution_count": 38,
      "outputs": [
        {
          "output_type": "stream",
          "text": [
            "Found 1000 images belonging to 2 classes.\n"
          ],
          "name": "stdout"
        }
      ]
    },
    {
      "cell_type": "markdown",
      "metadata": {
        "id": "DQ6wl1cI04LP"
      },
      "source": [
        "# CNN\r\n"
      ]
    },
    {
      "cell_type": "code",
      "metadata": {
        "id": "gxnGO0si1bF8"
      },
      "source": [
        "cnn = tf.keras.Sequential()\r\n",
        "\r\n",
        "cnn.add(tf.keras.layers.Conv2D(filters=32, kernel_size=3, activation='relu', input_shape=[64, 64, 3]))\r\n",
        "cnn.add(tf.keras.layers.MaxPool2D(pool_size=2, strides=2))\r\n",
        "cnn.add(tf.keras.layers.Conv2D(filters=32, kernel_size=3, activation='relu'))\r\n",
        "cnn.add(tf.keras.layers.MaxPool2D(pool_size=2, strides=2))\r\n",
        "cnn.add(tf.keras.layers.Flatten())\r\n",
        "\r\n",
        "\r\n",
        "cnn.add(tf.keras.layers.Dense(units=128, activation='relu'))\r\n",
        "cnn.add(tf.keras.layers.Dense(units=1, activation='sigmoid'))"
      ],
      "execution_count": 39,
      "outputs": []
    },
    {
      "cell_type": "code",
      "metadata": {
        "id": "d1nXEtpP6Y2E"
      },
      "source": [
        "cnn.compile(optimizer = 'adam', loss = 'binary_crossentropy', metrics = ['accuracy'])"
      ],
      "execution_count": 40,
      "outputs": []
    },
    {
      "cell_type": "code",
      "metadata": {
        "colab": {
          "base_uri": "https://localhost:8080/"
        },
        "id": "49ykcW3e7aWK",
        "outputId": "dbc16de1-4cf2-46de-c75a-ccb1a45b8cb0"
      },
      "source": [
        "cnn.fit(x = train_generator, validation_data = test_generator, epochs = 25)"
      ],
      "execution_count": 41,
      "outputs": [
        {
          "output_type": "stream",
          "text": [
            "Epoch 1/25\n",
            "63/63 [==============================] - 20s 304ms/step - loss: 0.7111 - accuracy: 0.5103 - val_loss: 0.6799 - val_accuracy: 0.5850\n",
            "Epoch 2/25\n",
            "63/63 [==============================] - 19s 301ms/step - loss: 0.6731 - accuracy: 0.5900 - val_loss: 0.6757 - val_accuracy: 0.5730\n",
            "Epoch 3/25\n",
            "63/63 [==============================] - 19s 301ms/step - loss: 0.6540 - accuracy: 0.6254 - val_loss: 0.6576 - val_accuracy: 0.6120\n",
            "Epoch 4/25\n",
            "63/63 [==============================] - 19s 301ms/step - loss: 0.6462 - accuracy: 0.6367 - val_loss: 0.6319 - val_accuracy: 0.6350\n",
            "Epoch 5/25\n",
            "63/63 [==============================] - 19s 302ms/step - loss: 0.6052 - accuracy: 0.6743 - val_loss: 0.6410 - val_accuracy: 0.6660\n",
            "Epoch 6/25\n",
            "63/63 [==============================] - 19s 302ms/step - loss: 0.6121 - accuracy: 0.6804 - val_loss: 0.6053 - val_accuracy: 0.6840\n",
            "Epoch 7/25\n",
            "63/63 [==============================] - 19s 305ms/step - loss: 0.5829 - accuracy: 0.6990 - val_loss: 0.6625 - val_accuracy: 0.6330\n",
            "Epoch 8/25\n",
            "63/63 [==============================] - 19s 305ms/step - loss: 0.5563 - accuracy: 0.7098 - val_loss: 0.6252 - val_accuracy: 0.6560\n",
            "Epoch 9/25\n",
            "63/63 [==============================] - 19s 304ms/step - loss: 0.5401 - accuracy: 0.7332 - val_loss: 0.5945 - val_accuracy: 0.6890\n",
            "Epoch 10/25\n",
            "63/63 [==============================] - 19s 305ms/step - loss: 0.5076 - accuracy: 0.7437 - val_loss: 0.6045 - val_accuracy: 0.6830\n",
            "Epoch 11/25\n",
            "63/63 [==============================] - 20s 310ms/step - loss: 0.5136 - accuracy: 0.7432 - val_loss: 0.5743 - val_accuracy: 0.7240\n",
            "Epoch 12/25\n",
            "63/63 [==============================] - 19s 306ms/step - loss: 0.4905 - accuracy: 0.7600 - val_loss: 0.5768 - val_accuracy: 0.7110\n",
            "Epoch 13/25\n",
            "63/63 [==============================] - 19s 304ms/step - loss: 0.4963 - accuracy: 0.7582 - val_loss: 0.6068 - val_accuracy: 0.6920\n",
            "Epoch 14/25\n",
            "63/63 [==============================] - 19s 304ms/step - loss: 0.4808 - accuracy: 0.7662 - val_loss: 0.5669 - val_accuracy: 0.7210\n",
            "Epoch 15/25\n",
            "63/63 [==============================] - 19s 304ms/step - loss: 0.4605 - accuracy: 0.7895 - val_loss: 0.5576 - val_accuracy: 0.7290\n",
            "Epoch 16/25\n",
            "63/63 [==============================] - 19s 304ms/step - loss: 0.4379 - accuracy: 0.7893 - val_loss: 0.6589 - val_accuracy: 0.6820\n",
            "Epoch 17/25\n",
            "63/63 [==============================] - 19s 301ms/step - loss: 0.4278 - accuracy: 0.8089 - val_loss: 0.5818 - val_accuracy: 0.7230\n",
            "Epoch 18/25\n",
            "63/63 [==============================] - 19s 302ms/step - loss: 0.4119 - accuracy: 0.8170 - val_loss: 0.6881 - val_accuracy: 0.7020\n",
            "Epoch 19/25\n",
            "63/63 [==============================] - 19s 303ms/step - loss: 0.3995 - accuracy: 0.8084 - val_loss: 0.5684 - val_accuracy: 0.7280\n",
            "Epoch 20/25\n",
            "63/63 [==============================] - 19s 301ms/step - loss: 0.3491 - accuracy: 0.8418 - val_loss: 0.5857 - val_accuracy: 0.7480\n",
            "Epoch 21/25\n",
            "63/63 [==============================] - 19s 300ms/step - loss: 0.3801 - accuracy: 0.8260 - val_loss: 0.6803 - val_accuracy: 0.7070\n",
            "Epoch 22/25\n",
            "63/63 [==============================] - 19s 301ms/step - loss: 0.3222 - accuracy: 0.8654 - val_loss: 0.6733 - val_accuracy: 0.7320\n",
            "Epoch 23/25\n",
            "63/63 [==============================] - 19s 302ms/step - loss: 0.3460 - accuracy: 0.8542 - val_loss: 0.6201 - val_accuracy: 0.7280\n",
            "Epoch 24/25\n",
            "63/63 [==============================] - 19s 302ms/step - loss: 0.3179 - accuracy: 0.8683 - val_loss: 0.6331 - val_accuracy: 0.7450\n",
            "Epoch 25/25\n",
            "63/63 [==============================] - 19s 300ms/step - loss: 0.2980 - accuracy: 0.8794 - val_loss: 0.6173 - val_accuracy: 0.7270\n"
          ],
          "name": "stdout"
        },
        {
          "output_type": "execute_result",
          "data": {
            "text/plain": [
              "<tensorflow.python.keras.callbacks.History at 0x7fe676766610>"
            ]
          },
          "metadata": {
            "tags": []
          },
          "execution_count": 41
        }
      ]
    },
    {
      "cell_type": "code",
      "metadata": {
        "id": "6H6yk29ZDLPt"
      },
      "source": [
        "import numpy as np\r\n",
        "from keras.preprocessing import image\r\n",
        "test_image = image.load_img('/content/cats_and_dogs_filtered/validation/cats/cat.2053.jpg', target_size = (64, 64))\r\n",
        "test_image = image.img_to_array(test_image)\r\n",
        "test_image = np.expand_dims(test_image, axis = 0)\r\n",
        "result = cnn.predict(test_image)\r\n",
        "train_generator.class_indices\r\n",
        "if result[0][0] == 1:\r\n",
        "  prediction = 'dog'\r\n",
        "else:\r\n",
        "  prediction = 'cat'\r\n",
        "\r\n"
      ],
      "execution_count": 50,
      "outputs": []
    },
    {
      "cell_type": "code",
      "metadata": {
        "colab": {
          "base_uri": "https://localhost:8080/"
        },
        "id": "5zdW8rQwDfDK",
        "outputId": "3f86c056-2f59-487b-84cc-ea5a7d4f6c2e"
      },
      "source": [
        "print(prediction)"
      ],
      "execution_count": 51,
      "outputs": [
        {
          "output_type": "stream",
          "text": [
            "dog\n"
          ],
          "name": "stdout"
        }
      ]
    }
  ]
}